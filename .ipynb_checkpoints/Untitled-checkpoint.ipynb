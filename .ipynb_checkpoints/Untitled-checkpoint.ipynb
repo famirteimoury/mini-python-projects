{
 "cells": [
  {
   "cell_type": "markdown",
   "id": "a182e266",
   "metadata": {},
   "source": [
    "Hello Python world"
   ]
  },
  {
   "cell_type": "code",
   "execution_count": 1,
   "id": "338658ef",
   "metadata": {},
   "outputs": [
    {
     "name": "stdout",
     "output_type": "stream",
     "text": [
      "hello python\n"
     ]
    }
   ],
   "source": [
    "print (\"hello python\")"
   ]
  }
 ],
 "metadata": {
  "kernelspec": {
   "display_name": "Python 3 (ipykernel)",
   "language": "python",
   "name": "python3"
  },
  "language_info": {
   "codemirror_mode": {
    "name": "ipython",
    "version": 3
   },
   "file_extension": ".py",
   "mimetype": "text/x-python",
   "name": "python",
   "nbconvert_exporter": "python",
   "pygments_lexer": "ipython3",
   "version": "3.10.2"
  }
 },
 "nbformat": 4,
 "nbformat_minor": 5
}
